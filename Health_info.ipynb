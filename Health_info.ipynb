{
 "cells": [
  {
   "metadata": {},
   "cell_type": "markdown",
   "source": "### Import all libraries",
   "id": "59ff796830c5fba7"
  },
  {
   "cell_type": "code",
   "id": "initial_id",
   "metadata": {
    "collapsed": true,
    "ExecuteTime": {
     "end_time": "2025-03-11T03:31:35.207046Z",
     "start_time": "2025-03-11T03:31:33.383826Z"
    }
   },
   "source": [
    "import pandas as pd\n",
    "import numpy as np"
   ],
   "outputs": [],
   "execution_count": 1
  },
  {
   "metadata": {},
   "cell_type": "markdown",
   "source": "### Read dataset",
   "id": "18bca856e31e13b0"
  },
  {
   "metadata": {
    "ExecuteTime": {
     "end_time": "2025-03-11T03:31:38.396196Z",
     "start_time": "2025-03-11T03:31:37.446571Z"
    }
   },
   "cell_type": "code",
   "source": [
    "df = pd.read_csv(\"datasets/healt_info.csv\")\n",
    "df.head()"
   ],
   "id": "93863490adad5108",
   "outputs": [
    {
     "data": {
      "text/plain": [
       "   Sno  AGE     SEX CASTE_NAME CATEGORY_CODE CATEGORY_NAME SURGERY_CODE  \\\n",
       "0    1   56  Female         BC            M6    NEPHROLOGY         M6.5   \n",
       "1    2   37    Male         BC            M6    NEPHROLOGY         M6.5   \n",
       "2    3   50    Male         BC            M6    NEPHROLOGY         M6.5   \n",
       "3    4   45    Male         BC            M6    NEPHROLOGY         M6.5   \n",
       "4    5   54    Male         BC            M6    NEPHROLOGY         M6.5   \n",
       "\n",
       "                            SURGERY        VILLAGE  MANDAL_NAME  ...  \\\n",
       "0  Maintenance Hemodialysis For Crf         Lolugu      Ponduru  ...   \n",
       "1  Maintenance Hemodialysis For Crf      Borivanka       Kaviti  ...   \n",
       "2  Maintenance Hemodialysis For Crf    Kapasakuddi       Kaviti  ...   \n",
       "3  Maintenance Hemodialysis For Crf    Telikipenta  Sarubujjili  ...   \n",
       "4  Maintenance Hemodialysis For Crf  Thandemvalasa   Srikakulam  ...   \n",
       "\n",
       "         CLAIM_DATE CLAIM_AMOUNT                                HOSP_NAME  \\\n",
       "0  22-03-2017 20:25        11000  Rims Govt. General Hospital, Srikakulam   \n",
       "1  22-03-2017 20:25        11000  Rims Govt. General Hospital, Srikakulam   \n",
       "2  22-03-2017 20:25        11500  Rims Govt. General Hospital, Srikakulam   \n",
       "3  22-03-2017 20:25        11000  Rims Govt. General Hospital, Srikakulam   \n",
       "4  22-03-2017 20:25        11000  Rims Govt. General Hospital, Srikakulam   \n",
       "\n",
       "  HOSP_TYPE  HOSP_DISTRICT      SURGERY_DATE    DISCHARGE_DATE  \\\n",
       "0         G     Srikakulam  06-08-2013 00:00  07-09-2013 00:00   \n",
       "1         G     Srikakulam  08-08-2013 00:00  09-09-2013 00:00   \n",
       "2         G     Srikakulam  15-08-2013 00:00  18-10-2013 00:00   \n",
       "3         G     Srikakulam  24-08-2013 00:00  27-09-2013 00:00   \n",
       "4         G     Srikakulam  31-08-2013 00:00  02-10-2013 00:00   \n",
       "\n",
       "  Mortality Y / N MORTALITY_DATE SRC_REGISTRATION  \n",
       "0              NO            NaN                D  \n",
       "1              NO            NaN                D  \n",
       "2              NO            NaN                D  \n",
       "3              NO            NaN                D  \n",
       "4              NO            NaN                D  \n",
       "\n",
       "[5 rows x 23 columns]"
      ],
      "text/html": [
       "<div>\n",
       "<style scoped>\n",
       "    .dataframe tbody tr th:only-of-type {\n",
       "        vertical-align: middle;\n",
       "    }\n",
       "\n",
       "    .dataframe tbody tr th {\n",
       "        vertical-align: top;\n",
       "    }\n",
       "\n",
       "    .dataframe thead th {\n",
       "        text-align: right;\n",
       "    }\n",
       "</style>\n",
       "<table border=\"1\" class=\"dataframe\">\n",
       "  <thead>\n",
       "    <tr style=\"text-align: right;\">\n",
       "      <th></th>\n",
       "      <th>Sno</th>\n",
       "      <th>AGE</th>\n",
       "      <th>SEX</th>\n",
       "      <th>CASTE_NAME</th>\n",
       "      <th>CATEGORY_CODE</th>\n",
       "      <th>CATEGORY_NAME</th>\n",
       "      <th>SURGERY_CODE</th>\n",
       "      <th>SURGERY</th>\n",
       "      <th>VILLAGE</th>\n",
       "      <th>MANDAL_NAME</th>\n",
       "      <th>...</th>\n",
       "      <th>CLAIM_DATE</th>\n",
       "      <th>CLAIM_AMOUNT</th>\n",
       "      <th>HOSP_NAME</th>\n",
       "      <th>HOSP_TYPE</th>\n",
       "      <th>HOSP_DISTRICT</th>\n",
       "      <th>SURGERY_DATE</th>\n",
       "      <th>DISCHARGE_DATE</th>\n",
       "      <th>Mortality Y / N</th>\n",
       "      <th>MORTALITY_DATE</th>\n",
       "      <th>SRC_REGISTRATION</th>\n",
       "    </tr>\n",
       "  </thead>\n",
       "  <tbody>\n",
       "    <tr>\n",
       "      <th>0</th>\n",
       "      <td>1</td>\n",
       "      <td>56</td>\n",
       "      <td>Female</td>\n",
       "      <td>BC</td>\n",
       "      <td>M6</td>\n",
       "      <td>NEPHROLOGY</td>\n",
       "      <td>M6.5</td>\n",
       "      <td>Maintenance Hemodialysis For Crf</td>\n",
       "      <td>Lolugu</td>\n",
       "      <td>Ponduru</td>\n",
       "      <td>...</td>\n",
       "      <td>22-03-2017 20:25</td>\n",
       "      <td>11000</td>\n",
       "      <td>Rims Govt. General Hospital, Srikakulam</td>\n",
       "      <td>G</td>\n",
       "      <td>Srikakulam</td>\n",
       "      <td>06-08-2013 00:00</td>\n",
       "      <td>07-09-2013 00:00</td>\n",
       "      <td>NO</td>\n",
       "      <td>NaN</td>\n",
       "      <td>D</td>\n",
       "    </tr>\n",
       "    <tr>\n",
       "      <th>1</th>\n",
       "      <td>2</td>\n",
       "      <td>37</td>\n",
       "      <td>Male</td>\n",
       "      <td>BC</td>\n",
       "      <td>M6</td>\n",
       "      <td>NEPHROLOGY</td>\n",
       "      <td>M6.5</td>\n",
       "      <td>Maintenance Hemodialysis For Crf</td>\n",
       "      <td>Borivanka</td>\n",
       "      <td>Kaviti</td>\n",
       "      <td>...</td>\n",
       "      <td>22-03-2017 20:25</td>\n",
       "      <td>11000</td>\n",
       "      <td>Rims Govt. General Hospital, Srikakulam</td>\n",
       "      <td>G</td>\n",
       "      <td>Srikakulam</td>\n",
       "      <td>08-08-2013 00:00</td>\n",
       "      <td>09-09-2013 00:00</td>\n",
       "      <td>NO</td>\n",
       "      <td>NaN</td>\n",
       "      <td>D</td>\n",
       "    </tr>\n",
       "    <tr>\n",
       "      <th>2</th>\n",
       "      <td>3</td>\n",
       "      <td>50</td>\n",
       "      <td>Male</td>\n",
       "      <td>BC</td>\n",
       "      <td>M6</td>\n",
       "      <td>NEPHROLOGY</td>\n",
       "      <td>M6.5</td>\n",
       "      <td>Maintenance Hemodialysis For Crf</td>\n",
       "      <td>Kapasakuddi</td>\n",
       "      <td>Kaviti</td>\n",
       "      <td>...</td>\n",
       "      <td>22-03-2017 20:25</td>\n",
       "      <td>11500</td>\n",
       "      <td>Rims Govt. General Hospital, Srikakulam</td>\n",
       "      <td>G</td>\n",
       "      <td>Srikakulam</td>\n",
       "      <td>15-08-2013 00:00</td>\n",
       "      <td>18-10-2013 00:00</td>\n",
       "      <td>NO</td>\n",
       "      <td>NaN</td>\n",
       "      <td>D</td>\n",
       "    </tr>\n",
       "    <tr>\n",
       "      <th>3</th>\n",
       "      <td>4</td>\n",
       "      <td>45</td>\n",
       "      <td>Male</td>\n",
       "      <td>BC</td>\n",
       "      <td>M6</td>\n",
       "      <td>NEPHROLOGY</td>\n",
       "      <td>M6.5</td>\n",
       "      <td>Maintenance Hemodialysis For Crf</td>\n",
       "      <td>Telikipenta</td>\n",
       "      <td>Sarubujjili</td>\n",
       "      <td>...</td>\n",
       "      <td>22-03-2017 20:25</td>\n",
       "      <td>11000</td>\n",
       "      <td>Rims Govt. General Hospital, Srikakulam</td>\n",
       "      <td>G</td>\n",
       "      <td>Srikakulam</td>\n",
       "      <td>24-08-2013 00:00</td>\n",
       "      <td>27-09-2013 00:00</td>\n",
       "      <td>NO</td>\n",
       "      <td>NaN</td>\n",
       "      <td>D</td>\n",
       "    </tr>\n",
       "    <tr>\n",
       "      <th>4</th>\n",
       "      <td>5</td>\n",
       "      <td>54</td>\n",
       "      <td>Male</td>\n",
       "      <td>BC</td>\n",
       "      <td>M6</td>\n",
       "      <td>NEPHROLOGY</td>\n",
       "      <td>M6.5</td>\n",
       "      <td>Maintenance Hemodialysis For Crf</td>\n",
       "      <td>Thandemvalasa</td>\n",
       "      <td>Srikakulam</td>\n",
       "      <td>...</td>\n",
       "      <td>22-03-2017 20:25</td>\n",
       "      <td>11000</td>\n",
       "      <td>Rims Govt. General Hospital, Srikakulam</td>\n",
       "      <td>G</td>\n",
       "      <td>Srikakulam</td>\n",
       "      <td>31-08-2013 00:00</td>\n",
       "      <td>02-10-2013 00:00</td>\n",
       "      <td>NO</td>\n",
       "      <td>NaN</td>\n",
       "      <td>D</td>\n",
       "    </tr>\n",
       "  </tbody>\n",
       "</table>\n",
       "<p>5 rows × 23 columns</p>\n",
       "</div>"
      ]
     },
     "execution_count": 2,
     "metadata": {},
     "output_type": "execute_result"
    }
   ],
   "execution_count": 2
  },
  {
   "metadata": {},
   "cell_type": "markdown",
   "source": "### 1. Find the number of all duplicate rows in the dataset",
   "id": "7e6954ce46b1bafc"
  },
  {
   "metadata": {
    "ExecuteTime": {
     "end_time": "2025-03-06T07:19:45.393124Z",
     "start_time": "2025-03-06T07:19:44.986708Z"
    }
   },
   "cell_type": "code",
   "source": "sum(df.duplicated())",
   "id": "24e16caa262cb5f1",
   "outputs": [
    {
     "data": {
      "text/plain": [
       "0"
      ]
     },
     "execution_count": 15,
     "metadata": {},
     "output_type": "execute_result"
    }
   ],
   "execution_count": 15
  },
  {
   "metadata": {},
   "cell_type": "markdown",
   "source": [
    "### 2. Delete the following columns from the dataset:\n",
    "- Sno\n",
    "- CATEGORY_CODE\n",
    "- SURGERY_CODE\n",
    "- MANDAL_NAME\n",
    "- DISTRICT_NAME\n",
    "- HOSP_DISTRICT"
   ],
   "id": "3c24aed5aebcd8e0"
  },
  {
   "metadata": {
    "ExecuteTime": {
     "end_time": "2025-03-06T07:26:38.088958Z",
     "start_time": "2025-03-06T07:26:38.005064Z"
    }
   },
   "cell_type": "code",
   "source": [
    "df.drop(['Sno', 'CATEGORY_CODE', 'SURGERY_CODE', 'MANDAL_NAME', 'DISTRICT_NAME', 'HOSP_DISTRICT'], inplace = True, axis = 'columns')\n",
    "df"
   ],
   "id": "7defcd60aa38d66f",
   "outputs": [
    {
     "data": {
      "text/plain": [
       "        AGE     SEX CASTE_NAME             CATEGORY_NAME  \\\n",
       "0        56  Female         BC                NEPHROLOGY   \n",
       "1        37    Male         BC                NEPHROLOGY   \n",
       "2        50    Male         BC                NEPHROLOGY   \n",
       "3        45    Male         BC                NEPHROLOGY   \n",
       "4        54    Male         BC                NEPHROLOGY   \n",
       "...     ...     ...        ...                       ...   \n",
       "335389   65    Male         SC    OPHTHALMOLOGY  SURGERY   \n",
       "335390   54  Female         OC          MEDICAL ONCOLOGY   \n",
       "335391   19  Female         SC          MEDICAL ONCOLOGY   \n",
       "335392   50    Male         BC  GENITO URINARY SURGERIES   \n",
       "335393   46  Female         SC          MEDICAL ONCOLOGY   \n",
       "\n",
       "                                                  SURGERY  \\\n",
       "0                        Maintenance Hemodialysis For Crf   \n",
       "1                        Maintenance Hemodialysis For Crf   \n",
       "2                        Maintenance Hemodialysis For Crf   \n",
       "3                        Maintenance Hemodialysis For Crf   \n",
       "4                        Maintenance Hemodialysis For Crf   \n",
       "...                                                   ...   \n",
       "335389         Vitrectomy Plus Silicon Oil Or Gas (14.75)   \n",
       "335390     Chemotherapy for Breast Cancer with Paclitaxel   \n",
       "335391       Palliative Chemotherapy for unlisted Regimen   \n",
       "335392                                               ursl   \n",
       "335393  Chemotherapy for Cervical Cancer with Weekly C...   \n",
       "\n",
       "                        VILLAGE      PREAUTH_DATE  PREAUTH_AMT  \\\n",
       "0                        Lolugu  03-08-2013 20:38        12500   \n",
       "1                     Borivanka  06-08-2013 07:26        12500   \n",
       "2                   Kapasakuddi  09-08-2013 18:30        12500   \n",
       "3                   Telikipenta  24-08-2013 19:37        12500   \n",
       "4                 Thandemvalasa  28-08-2013 17:03        12500   \n",
       "...                         ...               ...          ...   \n",
       "335389             Chintalapudi  08-06-2017 06:40        23320   \n",
       "335390  Udayagiri @ Kondayapale  05-06-2017 22:35         7140   \n",
       "335391                  Vinduru  06-06-2017 06:13         5000   \n",
       "335392                Duppituru  05-06-2017 23:37        25000   \n",
       "335393             Ananthavaram  06-06-2017 23:02         2040   \n",
       "\n",
       "              CLAIM_DATE  CLAIM_AMOUNT  \\\n",
       "0       22-03-2017 20:25         11000   \n",
       "1       22-03-2017 20:25         11000   \n",
       "2       22-03-2017 20:25         11500   \n",
       "3       22-03-2017 20:25         11000   \n",
       "4       22-03-2017 20:25         11000   \n",
       "...                  ...           ...   \n",
       "335389  04-08-2017 21:23         23320   \n",
       "335390  02-08-2017 19:11          7140   \n",
       "335391  04-10-2017 19:46          5000   \n",
       "335392  04-08-2017 20:59         25000   \n",
       "335393  09-08-2017 19:43          2040   \n",
       "\n",
       "                                                HOSP_NAME HOSP_TYPE  \\\n",
       "0                 Rims Govt. General Hospital, Srikakulam         G   \n",
       "1                 Rims Govt. General Hospital, Srikakulam         G   \n",
       "2                 Rims Govt. General Hospital, Srikakulam         G   \n",
       "3                 Rims Govt. General Hospital, Srikakulam         G   \n",
       "4                 Rims Govt. General Hospital, Srikakulam         G   \n",
       "...                                                   ...       ...   \n",
       "335389                                Sankar Eye Hospital         C   \n",
       "335390  BASAVATARAKAM INDO AMERICAN CANCER HOSPITAL an...         C   \n",
       "335391                                    M.N.J.Hospitals         G   \n",
       "335392             GAJUWAKA HOSPITALS PVT LTD RK HOSPITAL         C   \n",
       "335393  SURYA GLOBAL MULTI SPECIALITY HOSPITALS AND CA...         C   \n",
       "\n",
       "            SURGERY_DATE    DISCHARGE_DATE Mortality Y / N MORTALITY_DATE  \\\n",
       "0       06-08-2013 00:00  07-09-2013 00:00              NO            NaN   \n",
       "1       08-08-2013 00:00  09-09-2013 00:00              NO            NaN   \n",
       "2       15-08-2013 00:00  18-10-2013 00:00              NO            NaN   \n",
       "3       24-08-2013 00:00  27-09-2013 00:00              NO            NaN   \n",
       "4       31-08-2013 00:00  02-10-2013 00:00              NO            NaN   \n",
       "...                  ...               ...             ...            ...   \n",
       "335389  09-06-2017 00:00  10-06-2017 00:00              NO            NaN   \n",
       "335390  06-06-2017 00:00  06-06-2017 00:00              NO            NaN   \n",
       "335391  09-06-2017 00:00  10-06-2017 00:00              NO            NaN   \n",
       "335392  06-06-2017 00:00  10-06-2017 00:00              NO            NaN   \n",
       "335393  07-06-2017 00:00  07-06-2017 00:00              NO            NaN   \n",
       "\n",
       "       SRC_REGISTRATION  \n",
       "0                     D  \n",
       "1                     D  \n",
       "2                     D  \n",
       "3                     D  \n",
       "4                     D  \n",
       "...                 ...  \n",
       "335389                D  \n",
       "335390                D  \n",
       "335391                D  \n",
       "335392                D  \n",
       "335393               MC  \n",
       "\n",
       "[335394 rows x 17 columns]"
      ],
      "text/html": [
       "<div>\n",
       "<style scoped>\n",
       "    .dataframe tbody tr th:only-of-type {\n",
       "        vertical-align: middle;\n",
       "    }\n",
       "\n",
       "    .dataframe tbody tr th {\n",
       "        vertical-align: top;\n",
       "    }\n",
       "\n",
       "    .dataframe thead th {\n",
       "        text-align: right;\n",
       "    }\n",
       "</style>\n",
       "<table border=\"1\" class=\"dataframe\">\n",
       "  <thead>\n",
       "    <tr style=\"text-align: right;\">\n",
       "      <th></th>\n",
       "      <th>AGE</th>\n",
       "      <th>SEX</th>\n",
       "      <th>CASTE_NAME</th>\n",
       "      <th>CATEGORY_NAME</th>\n",
       "      <th>SURGERY</th>\n",
       "      <th>VILLAGE</th>\n",
       "      <th>PREAUTH_DATE</th>\n",
       "      <th>PREAUTH_AMT</th>\n",
       "      <th>CLAIM_DATE</th>\n",
       "      <th>CLAIM_AMOUNT</th>\n",
       "      <th>HOSP_NAME</th>\n",
       "      <th>HOSP_TYPE</th>\n",
       "      <th>SURGERY_DATE</th>\n",
       "      <th>DISCHARGE_DATE</th>\n",
       "      <th>Mortality Y / N</th>\n",
       "      <th>MORTALITY_DATE</th>\n",
       "      <th>SRC_REGISTRATION</th>\n",
       "    </tr>\n",
       "  </thead>\n",
       "  <tbody>\n",
       "    <tr>\n",
       "      <th>0</th>\n",
       "      <td>56</td>\n",
       "      <td>Female</td>\n",
       "      <td>BC</td>\n",
       "      <td>NEPHROLOGY</td>\n",
       "      <td>Maintenance Hemodialysis For Crf</td>\n",
       "      <td>Lolugu</td>\n",
       "      <td>03-08-2013 20:38</td>\n",
       "      <td>12500</td>\n",
       "      <td>22-03-2017 20:25</td>\n",
       "      <td>11000</td>\n",
       "      <td>Rims Govt. General Hospital, Srikakulam</td>\n",
       "      <td>G</td>\n",
       "      <td>06-08-2013 00:00</td>\n",
       "      <td>07-09-2013 00:00</td>\n",
       "      <td>NO</td>\n",
       "      <td>NaN</td>\n",
       "      <td>D</td>\n",
       "    </tr>\n",
       "    <tr>\n",
       "      <th>1</th>\n",
       "      <td>37</td>\n",
       "      <td>Male</td>\n",
       "      <td>BC</td>\n",
       "      <td>NEPHROLOGY</td>\n",
       "      <td>Maintenance Hemodialysis For Crf</td>\n",
       "      <td>Borivanka</td>\n",
       "      <td>06-08-2013 07:26</td>\n",
       "      <td>12500</td>\n",
       "      <td>22-03-2017 20:25</td>\n",
       "      <td>11000</td>\n",
       "      <td>Rims Govt. General Hospital, Srikakulam</td>\n",
       "      <td>G</td>\n",
       "      <td>08-08-2013 00:00</td>\n",
       "      <td>09-09-2013 00:00</td>\n",
       "      <td>NO</td>\n",
       "      <td>NaN</td>\n",
       "      <td>D</td>\n",
       "    </tr>\n",
       "    <tr>\n",
       "      <th>2</th>\n",
       "      <td>50</td>\n",
       "      <td>Male</td>\n",
       "      <td>BC</td>\n",
       "      <td>NEPHROLOGY</td>\n",
       "      <td>Maintenance Hemodialysis For Crf</td>\n",
       "      <td>Kapasakuddi</td>\n",
       "      <td>09-08-2013 18:30</td>\n",
       "      <td>12500</td>\n",
       "      <td>22-03-2017 20:25</td>\n",
       "      <td>11500</td>\n",
       "      <td>Rims Govt. General Hospital, Srikakulam</td>\n",
       "      <td>G</td>\n",
       "      <td>15-08-2013 00:00</td>\n",
       "      <td>18-10-2013 00:00</td>\n",
       "      <td>NO</td>\n",
       "      <td>NaN</td>\n",
       "      <td>D</td>\n",
       "    </tr>\n",
       "    <tr>\n",
       "      <th>3</th>\n",
       "      <td>45</td>\n",
       "      <td>Male</td>\n",
       "      <td>BC</td>\n",
       "      <td>NEPHROLOGY</td>\n",
       "      <td>Maintenance Hemodialysis For Crf</td>\n",
       "      <td>Telikipenta</td>\n",
       "      <td>24-08-2013 19:37</td>\n",
       "      <td>12500</td>\n",
       "      <td>22-03-2017 20:25</td>\n",
       "      <td>11000</td>\n",
       "      <td>Rims Govt. General Hospital, Srikakulam</td>\n",
       "      <td>G</td>\n",
       "      <td>24-08-2013 00:00</td>\n",
       "      <td>27-09-2013 00:00</td>\n",
       "      <td>NO</td>\n",
       "      <td>NaN</td>\n",
       "      <td>D</td>\n",
       "    </tr>\n",
       "    <tr>\n",
       "      <th>4</th>\n",
       "      <td>54</td>\n",
       "      <td>Male</td>\n",
       "      <td>BC</td>\n",
       "      <td>NEPHROLOGY</td>\n",
       "      <td>Maintenance Hemodialysis For Crf</td>\n",
       "      <td>Thandemvalasa</td>\n",
       "      <td>28-08-2013 17:03</td>\n",
       "      <td>12500</td>\n",
       "      <td>22-03-2017 20:25</td>\n",
       "      <td>11000</td>\n",
       "      <td>Rims Govt. General Hospital, Srikakulam</td>\n",
       "      <td>G</td>\n",
       "      <td>31-08-2013 00:00</td>\n",
       "      <td>02-10-2013 00:00</td>\n",
       "      <td>NO</td>\n",
       "      <td>NaN</td>\n",
       "      <td>D</td>\n",
       "    </tr>\n",
       "    <tr>\n",
       "      <th>...</th>\n",
       "      <td>...</td>\n",
       "      <td>...</td>\n",
       "      <td>...</td>\n",
       "      <td>...</td>\n",
       "      <td>...</td>\n",
       "      <td>...</td>\n",
       "      <td>...</td>\n",
       "      <td>...</td>\n",
       "      <td>...</td>\n",
       "      <td>...</td>\n",
       "      <td>...</td>\n",
       "      <td>...</td>\n",
       "      <td>...</td>\n",
       "      <td>...</td>\n",
       "      <td>...</td>\n",
       "      <td>...</td>\n",
       "      <td>...</td>\n",
       "    </tr>\n",
       "    <tr>\n",
       "      <th>335389</th>\n",
       "      <td>65</td>\n",
       "      <td>Male</td>\n",
       "      <td>SC</td>\n",
       "      <td>OPHTHALMOLOGY  SURGERY</td>\n",
       "      <td>Vitrectomy Plus Silicon Oil Or Gas (14.75)</td>\n",
       "      <td>Chintalapudi</td>\n",
       "      <td>08-06-2017 06:40</td>\n",
       "      <td>23320</td>\n",
       "      <td>04-08-2017 21:23</td>\n",
       "      <td>23320</td>\n",
       "      <td>Sankar Eye Hospital</td>\n",
       "      <td>C</td>\n",
       "      <td>09-06-2017 00:00</td>\n",
       "      <td>10-06-2017 00:00</td>\n",
       "      <td>NO</td>\n",
       "      <td>NaN</td>\n",
       "      <td>D</td>\n",
       "    </tr>\n",
       "    <tr>\n",
       "      <th>335390</th>\n",
       "      <td>54</td>\n",
       "      <td>Female</td>\n",
       "      <td>OC</td>\n",
       "      <td>MEDICAL ONCOLOGY</td>\n",
       "      <td>Chemotherapy for Breast Cancer with Paclitaxel</td>\n",
       "      <td>Udayagiri @ Kondayapale</td>\n",
       "      <td>05-06-2017 22:35</td>\n",
       "      <td>7140</td>\n",
       "      <td>02-08-2017 19:11</td>\n",
       "      <td>7140</td>\n",
       "      <td>BASAVATARAKAM INDO AMERICAN CANCER HOSPITAL an...</td>\n",
       "      <td>C</td>\n",
       "      <td>06-06-2017 00:00</td>\n",
       "      <td>06-06-2017 00:00</td>\n",
       "      <td>NO</td>\n",
       "      <td>NaN</td>\n",
       "      <td>D</td>\n",
       "    </tr>\n",
       "    <tr>\n",
       "      <th>335391</th>\n",
       "      <td>19</td>\n",
       "      <td>Female</td>\n",
       "      <td>SC</td>\n",
       "      <td>MEDICAL ONCOLOGY</td>\n",
       "      <td>Palliative Chemotherapy for unlisted Regimen</td>\n",
       "      <td>Vinduru</td>\n",
       "      <td>06-06-2017 06:13</td>\n",
       "      <td>5000</td>\n",
       "      <td>04-10-2017 19:46</td>\n",
       "      <td>5000</td>\n",
       "      <td>M.N.J.Hospitals</td>\n",
       "      <td>G</td>\n",
       "      <td>09-06-2017 00:00</td>\n",
       "      <td>10-06-2017 00:00</td>\n",
       "      <td>NO</td>\n",
       "      <td>NaN</td>\n",
       "      <td>D</td>\n",
       "    </tr>\n",
       "    <tr>\n",
       "      <th>335392</th>\n",
       "      <td>50</td>\n",
       "      <td>Male</td>\n",
       "      <td>BC</td>\n",
       "      <td>GENITO URINARY SURGERIES</td>\n",
       "      <td>ursl</td>\n",
       "      <td>Duppituru</td>\n",
       "      <td>05-06-2017 23:37</td>\n",
       "      <td>25000</td>\n",
       "      <td>04-08-2017 20:59</td>\n",
       "      <td>25000</td>\n",
       "      <td>GAJUWAKA HOSPITALS PVT LTD RK HOSPITAL</td>\n",
       "      <td>C</td>\n",
       "      <td>06-06-2017 00:00</td>\n",
       "      <td>10-06-2017 00:00</td>\n",
       "      <td>NO</td>\n",
       "      <td>NaN</td>\n",
       "      <td>D</td>\n",
       "    </tr>\n",
       "    <tr>\n",
       "      <th>335393</th>\n",
       "      <td>46</td>\n",
       "      <td>Female</td>\n",
       "      <td>SC</td>\n",
       "      <td>MEDICAL ONCOLOGY</td>\n",
       "      <td>Chemotherapy for Cervical Cancer with Weekly C...</td>\n",
       "      <td>Ananthavaram</td>\n",
       "      <td>06-06-2017 23:02</td>\n",
       "      <td>2040</td>\n",
       "      <td>09-08-2017 19:43</td>\n",
       "      <td>2040</td>\n",
       "      <td>SURYA GLOBAL MULTI SPECIALITY HOSPITALS AND CA...</td>\n",
       "      <td>C</td>\n",
       "      <td>07-06-2017 00:00</td>\n",
       "      <td>07-06-2017 00:00</td>\n",
       "      <td>NO</td>\n",
       "      <td>NaN</td>\n",
       "      <td>MC</td>\n",
       "    </tr>\n",
       "  </tbody>\n",
       "</table>\n",
       "<p>335394 rows × 17 columns</p>\n",
       "</div>"
      ]
     },
     "execution_count": 16,
     "metadata": {},
     "output_type": "execute_result"
    }
   ],
   "execution_count": 16
  },
  {
   "metadata": {},
   "cell_type": "markdown",
   "source": "#### 3. Check the values in the row named sex in the dataset using the unique function.",
   "id": "be2e8e36bd276a9a"
  },
  {
   "metadata": {
    "ExecuteTime": {
     "end_time": "2025-03-06T07:31:29.595633Z",
     "start_time": "2025-03-06T07:31:29.558821Z"
    }
   },
   "cell_type": "code",
   "source": "df['SEX'].unique()",
   "id": "f780627fe282979b",
   "outputs": [
    {
     "data": {
      "text/plain": [
       "array(['Female', 'Male', 'Male(Child)', 'Female(Child)', 'FEMALE'],\n",
       "      dtype=object)"
      ]
     },
     "execution_count": 18,
     "metadata": {},
     "output_type": "execute_result"
    }
   ],
   "execution_count": 18
  },
  {
   "metadata": {},
   "cell_type": "markdown",
   "source": [
    "#### **4**. Change the values in the row named sex in the dataset to **Male** and **Female**:\n",
    "The change should be as follows:\n",
    "\n",
    "\n",
    "*   Male -> Erkak\n",
    "*   Male(child) -> Erkak\n",
    "*   Female - > Ayol\n",
    "*   Female(child) - Ayol\n",
    "*   MALE -> Erkak\n",
    "*   FEMALE -> Ayol"
   ],
   "id": "7b2dc4ff4b49abac"
  },
  {
   "metadata": {
    "ExecuteTime": {
     "end_time": "2025-03-11T04:00:49.037806Z",
     "start_time": "2025-03-11T04:00:48.968Z"
    }
   },
   "cell_type": "code",
   "source": "df['SEX'] = df.SEX.replace({'Male':'Erkak', 'Male(Child)':'Erkak', 'Female':'Ayol', 'Female(Child)':'Ayol', 'MALE':'Erkak', 'FEMALE':'Ayol'})",
   "id": "ad60a1f251244346",
   "outputs": [],
   "execution_count": 24
  },
  {
   "metadata": {
    "ExecuteTime": {
     "end_time": "2025-03-10T06:21:38.360052Z",
     "start_time": "2025-03-10T06:21:38.349065Z"
    }
   },
   "cell_type": "code",
   "source": "df.SEX.unique()",
   "id": "4c7cc220d90d3469",
   "outputs": [
    {
     "data": {
      "text/plain": [
       "array([0, 1])"
      ]
     },
     "execution_count": 26,
     "metadata": {},
     "output_type": "execute_result"
    }
   ],
   "execution_count": 26
  },
  {
   "metadata": {},
   "cell_type": "markdown",
   "source": [
    "#### **5**. Now change the data in the same SEX column to numbers: Change Males to 1, Females to 0.\n",
    "*   Erkak -> 1\n",
    "*   Ayol -> 0"
   ],
   "id": "a65d74f852bbb9a5"
  },
  {
   "metadata": {
    "ExecuteTime": {
     "end_time": "2025-03-10T06:21:42.847917Z",
     "start_time": "2025-03-10T06:21:42.839171Z"
    }
   },
   "cell_type": "code",
   "source": "df.SEX = df.SEX.replace({'Erkak':1, 'Ayol':0})",
   "id": "da613c9b6a33c15",
   "outputs": [],
   "execution_count": 27
  },
  {
   "metadata": {},
   "cell_type": "markdown",
   "source": [
    "#### **6**. Do the same process for the HOSP_TYPE column.\n",
    "*   G - General hospital (umumiy kasalxona) degani\n",
    "*   C - Special hospital (maxsus kasalxona) degani\n",
    "<br><b>O'zgarish quyidagicha bo'lsin:</b>\n",
    "*   G -> Umumiy\n",
    "*   C -> Maxsus"
   ],
   "id": "5cedea2987d8837e"
  },
  {
   "metadata": {
    "ExecuteTime": {
     "end_time": "2025-03-11T03:31:48.072611Z",
     "start_time": "2025-03-11T03:31:48.029540Z"
    }
   },
   "cell_type": "code",
   "source": "df['HOSP_TYPE'] = df['HOSP_TYPE'].replace({'G':'Umumiy', 'C':'Maxsus'})",
   "id": "528657c39b38bc61",
   "outputs": [],
   "execution_count": 3
  },
  {
   "metadata": {},
   "cell_type": "markdown",
   "source": "#### **7**. Once the change is made, also determine how many General and how many Special Hospitals are in the HOSP_TYPE column",
   "id": "c07c3cf69911ab45"
  },
  {
   "metadata": {
    "ExecuteTime": {
     "end_time": "2025-03-11T03:32:35.695790Z",
     "start_time": "2025-03-11T03:32:35.676819Z"
    }
   },
   "cell_type": "code",
   "source": "df['HOSP_TYPE'].value_counts()",
   "id": "d74a43c12414c8bd",
   "outputs": [
    {
     "data": {
      "text/plain": [
       "HOSP_TYPE\n",
       "Maxsus    241139\n",
       "Umumiy     94255\n",
       "Name: count, dtype: int64"
      ]
     },
     "execution_count": 4,
     "metadata": {},
     "output_type": "execute_result"
    }
   ],
   "execution_count": 4
  },
  {
   "metadata": {},
   "cell_type": "markdown",
   "source": "#### **8**. Determine how many duplicate rows there are in the dataset",
   "id": "ee142784e85d1169"
  },
  {
   "metadata": {
    "ExecuteTime": {
     "end_time": "2025-03-11T03:34:38.868822Z",
     "start_time": "2025-03-11T03:34:38.468878Z"
    }
   },
   "cell_type": "code",
   "source": "sum(df.duplicated())",
   "id": "79c6b04acfdad8d8",
   "outputs": [
    {
     "data": {
      "text/plain": [
       "0"
      ]
     },
     "execution_count": 7,
     "metadata": {},
     "output_type": "execute_result"
    }
   ],
   "execution_count": 7
  },
  {
   "metadata": {},
   "cell_type": "markdown",
   "source": "#### **9**. Delete all duplicate rows in the dataset",
   "id": "3a7cc21685c13b7e"
  },
  {
   "metadata": {
    "ExecuteTime": {
     "end_time": "2025-03-11T03:37:26.249078Z",
     "start_time": "2025-03-11T03:37:25.737378Z"
    }
   },
   "cell_type": "code",
   "source": "df.drop_duplicates(inplace = True)",
   "id": "2b132c3675d97181",
   "outputs": [],
   "execution_count": 10
  },
  {
   "metadata": {},
   "cell_type": "markdown",
   "source": "#### **10**. Find the average values ​​of ClAIM_AMOUNT by hospital type (general and specialized) from the dataset.",
   "id": "ecc6653c1d028309"
  },
  {
   "metadata": {
    "ExecuteTime": {
     "end_time": "2025-03-11T03:43:25.424982Z",
     "start_time": "2025-03-11T03:43:25.393390Z"
    }
   },
   "cell_type": "code",
   "source": [
    "# # 1-usul\n",
    "# df[df['HOSP_TYPE']=='Umumiy']['CLAIM_AMOUNT'].mean()\n",
    "\n",
    "# 2-usul\n",
    "df.groupby('HOSP_TYPE').CLAIM_AMOUNT.mean()"
   ],
   "id": "d3b3f439191581f4",
   "outputs": [
    {
     "data": {
      "text/plain": [
       "HOSP_TYPE\n",
       "Maxsus    30272.214457\n",
       "Umumiy    22683.900769\n",
       "Name: CLAIM_AMOUNT, dtype: float64"
      ]
     },
     "execution_count": 19,
     "metadata": {},
     "output_type": "execute_result"
    }
   ],
   "execution_count": 19
  },
  {
   "metadata": {},
   "cell_type": "markdown",
   "source": "#### **11**. Find the minimum values ​​of ClAIM_AMOUNT from the dataset, by hospital type (general and specialized).",
   "id": "720f05edb6dceaac"
  },
  {
   "metadata": {
    "ExecuteTime": {
     "end_time": "2025-03-11T03:44:42.899246Z",
     "start_time": "2025-03-11T03:44:42.874767Z"
    }
   },
   "cell_type": "code",
   "source": "df.groupby('HOSP_TYPE').CLAIM_AMOUNT.min()",
   "id": "54f3311daacf4e4",
   "outputs": [
    {
     "data": {
      "text/plain": [
       "HOSP_TYPE\n",
       "Maxsus    2\n",
       "Umumiy    2\n",
       "Name: CLAIM_AMOUNT, dtype: int64"
      ]
     },
     "execution_count": 20,
     "metadata": {},
     "output_type": "execute_result"
    }
   ],
   "execution_count": 20
  },
  {
   "metadata": {},
   "cell_type": "markdown",
   "source": "#### **12**. Find the min, max, and median values ​​of CLAIM_AMOUNT by gender in the dataset using the agg() method.",
   "id": "57c1752d8eaa1e01"
  },
  {
   "metadata": {
    "ExecuteTime": {
     "end_time": "2025-03-11T04:02:00.883747Z",
     "start_time": "2025-03-11T04:02:00.812867Z"
    }
   },
   "cell_type": "code",
   "source": "df.groupby('SEX').CLAIM_AMOUNT.agg([lambda x: min(x), lambda x: max(x), lambda x: np.mean(x)])",
   "id": "5a97bc3507369aaa",
   "outputs": [
    {
     "data": {
      "text/plain": [
       "       <lambda_0>  <lambda_1>    <lambda_2>\n",
       "SEX                                        \n",
       "Ayol            2      520000  25958.693494\n",
       "Erkak           2      520000  29584.682625"
      ],
      "text/html": [
       "<div>\n",
       "<style scoped>\n",
       "    .dataframe tbody tr th:only-of-type {\n",
       "        vertical-align: middle;\n",
       "    }\n",
       "\n",
       "    .dataframe tbody tr th {\n",
       "        vertical-align: top;\n",
       "    }\n",
       "\n",
       "    .dataframe thead th {\n",
       "        text-align: right;\n",
       "    }\n",
       "</style>\n",
       "<table border=\"1\" class=\"dataframe\">\n",
       "  <thead>\n",
       "    <tr style=\"text-align: right;\">\n",
       "      <th></th>\n",
       "      <th>&lt;lambda_0&gt;</th>\n",
       "      <th>&lt;lambda_1&gt;</th>\n",
       "      <th>&lt;lambda_2&gt;</th>\n",
       "    </tr>\n",
       "    <tr>\n",
       "      <th>SEX</th>\n",
       "      <th></th>\n",
       "      <th></th>\n",
       "      <th></th>\n",
       "    </tr>\n",
       "  </thead>\n",
       "  <tbody>\n",
       "    <tr>\n",
       "      <th>Ayol</th>\n",
       "      <td>2</td>\n",
       "      <td>520000</td>\n",
       "      <td>25958.693494</td>\n",
       "    </tr>\n",
       "    <tr>\n",
       "      <th>Erkak</th>\n",
       "      <td>2</td>\n",
       "      <td>520000</td>\n",
       "      <td>29584.682625</td>\n",
       "    </tr>\n",
       "  </tbody>\n",
       "</table>\n",
       "</div>"
      ]
     },
     "execution_count": 28,
     "metadata": {},
     "output_type": "execute_result"
    }
   ],
   "execution_count": 28
  },
  {
   "metadata": {},
   "cell_type": "code",
   "outputs": [],
   "execution_count": null,
   "source": "",
   "id": "119a6cecd01e156e"
  }
 ],
 "metadata": {
  "kernelspec": {
   "display_name": "Python 3",
   "language": "python",
   "name": "python3"
  },
  "language_info": {
   "codemirror_mode": {
    "name": "ipython",
    "version": 2
   },
   "file_extension": ".py",
   "mimetype": "text/x-python",
   "name": "python",
   "nbconvert_exporter": "python",
   "pygments_lexer": "ipython2",
   "version": "2.7.6"
  }
 },
 "nbformat": 4,
 "nbformat_minor": 5
}
